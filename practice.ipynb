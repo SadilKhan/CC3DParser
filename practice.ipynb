{
 "cells": [
  {
   "cell_type": "code",
   "execution_count": 1,
   "metadata": {},
   "outputs": [],
   "source": [
    "import json"
   ]
  },
  {
   "cell_type": "code",
   "execution_count": 3,
   "metadata": {},
   "outputs": [],
   "source": [
    "f=json.load(open(\"/Users/ryzenx/Codes/Python/cc3dparser/temp_data/User Library-3DS Cart.artec_prt.json\"))"
   ]
  },
  {
   "cell_type": "code",
   "execution_count": 6,
   "metadata": {},
   "outputs": [
    {
     "data": {
      "text/plain": [
       "{'feature': {'uuid': '983A000001000000FFFEFF000000000086010000',\n",
       "  'type': 'ExtrudeFeature',\n",
       "  'name': 'Cut-Extrude17',\n",
       "  'swname': 'Cut',\n",
       "  'boolean': 'CutFeatureOperation',\n",
       "  'extrude': {'references': ['983A000001000000FFFEFF00000000007B010000'],\n",
       "   'refAxis': [{'start': {'x': 0, 'y': 0.00508, 'z': -0.02424755155239188},\n",
       "     'end': {'x': -0.000254, 'y': 0.00508, 'z': -0.02424755155239188},\n",
       "     'direction': {'x': -1, 'y': 0, 'z': 0}}],\n",
       "   'contours': [],\n",
       "   'isThin': False}}}"
      ]
     },
     "execution_count": 6,
     "metadata": {},
     "output_type": "execute_result"
    }
   ],
   "source": [
    "f['entities'][-1]"
   ]
  },
  {
   "cell_type": "code",
   "execution_count": null,
   "metadata": {},
   "outputs": [],
   "source": []
  }
 ],
 "metadata": {
  "kernelspec": {
   "display_name": "dl_env",
   "language": "python",
   "name": "python3"
  },
  "language_info": {
   "codemirror_mode": {
    "name": "ipython",
    "version": 3
   },
   "file_extension": ".py",
   "mimetype": "text/x-python",
   "name": "python",
   "nbconvert_exporter": "python",
   "pygments_lexer": "ipython3",
   "version": "3.8.12"
  },
  "orig_nbformat": 4,
  "vscode": {
   "interpreter": {
    "hash": "c4e8fb3c1082bb46ec33d3c97266bb7042a653e1394115648c2c3a5c1250857d"
   }
  }
 },
 "nbformat": 4,
 "nbformat_minor": 2
}
