{
 "cells": [
  {
   "cell_type": "code",
   "execution_count": 3,
   "metadata": {},
   "outputs": [],
   "source": [
    "import json\n",
    "from cadlib.sketch import Profile\n",
    "from cadlib.extrude import Extrude,CADSequence\n",
    "import numpy as np"
   ]
  },
  {
   "cell_type": "code",
   "execution_count": 4,
   "metadata": {},
   "outputs": [],
   "source": [
    "def get_extrusion_index(all_stat, item_id):\n",
    "    \"\"\" Get the index of the extrusion gived the id\"\"\"\n",
    "    for tm in all_stat['timeline']:\n",
    "        if tm['uuid'] == item_id:\n",
    "            return tm['index']\n",
    "    return None"
   ]
  },
  {
   "cell_type": "code",
   "execution_count": 6,
   "metadata": {},
   "outputs": [],
   "source": [
    "f=json.load(open(\"/Users/ryzenx/Codes/Python/cc3dparser/temp_data/User Library-3DS Cart.artec_prt.json\"))"
   ]
  },
  {
   "cell_type": "code",
   "execution_count": 7,
   "metadata": {},
   "outputs": [
    {
     "name": "stdout",
     "output_type": "stream",
     "text": [
      "Translation False\n",
      "Translation False\n",
      "Translation False\n",
      "Translation False\n",
      "Translation False\n",
      "Translation False\n",
      "Translation False\n"
     ]
    },
    {
     "data": {
      "text/plain": [
       "<cadlib.extrude.CADSequence at 0x10e0e0730>"
      ]
     },
     "execution_count": 7,
     "metadata": {},
     "output_type": "execute_result"
    }
   ],
   "source": [
    "CADSequence.from_dict(f)"
   ]
  },
  {
   "cell_type": "code",
   "execution_count": 3,
   "metadata": {},
   "outputs": [],
   "source": [
    "extrude_entity=f['entities'][-1]"
   ]
  },
  {
   "cell_type": "code",
   "execution_count": 4,
   "metadata": {},
   "outputs": [
    {
     "data": {
      "text/plain": [
       "[{'start': {'x': 0, 'y': 0.00508, 'z': -0.02424755155239188},\n",
       "  'end': {'x': -0.000254, 'y': 0.00508, 'z': -0.02424755155239188},\n",
       "  'direction': {'x': -1, 'y': 0, 'z': 0}}]"
      ]
     },
     "execution_count": 4,
     "metadata": {},
     "output_type": "execute_result"
    }
   ],
   "source": [
    "extrude_entity['feature']['extrude']['refAxis']"
   ]
  },
  {
   "cell_type": "code",
   "execution_count": 15,
   "metadata": {},
   "outputs": [
    {
     "data": {
      "text/plain": [
       "array([ 0.        ,  0.00508   , -0.02424755])"
      ]
     },
     "execution_count": 15,
     "metadata": {},
     "output_type": "execute_result"
    }
   ],
   "source": [
    "np.array(list(extrude_entity['feature']['extrude']['refAxis'][0]['start'].values()))"
   ]
  },
  {
   "cell_type": "code",
   "execution_count": 6,
   "metadata": {},
   "outputs": [],
   "source": [
    "e=Extrude.from_dict(f,-1)[0]"
   ]
  },
  {
   "cell_type": "code",
   "execution_count": 48,
   "metadata": {},
   "outputs": [],
   "source": [
    "bbox_2d=e.profile.bbox\n",
    "zeros = np.zeros((bbox_2d.shape[0], 1))  # (N,2)\n",
    "bbox_3d = np.concatenate([bbox_2d, zeros], axis=1)  # (N,3)\n",
    "bbox_4d = np.concatenate(\n",
    "    [bbox_3d, zeros+1], axis=1).reshape(-1, 4, 1)  # (N,4,1)\n",
    "\n",
    "transformation_matrix_axis = e.sketch_plane.transformation_matrix_axis  # (4,4)\n",
    "transformation_matrix_axis = np.broadcast_to(\n",
    "    transformation_matrix_axis, (bbox_4d.shape[0], 4, 4))  # (N,4,4)\n",
    "\n",
    "bbox_4d_transformed = transformation_matrix_axis@bbox_4d  # (N,4,1)\n",
    "bbox_4d_transformed = bbox_4d_transformed.reshape(-1, 4)  # (N,4)\n",
    "bbox_3d = bbox_4d_transformed[:, :3]  # (N,3)\n",
    "\n",
    "bbox_3d=np.vstack([bbox_3d.min(axis=0),bbox_3d.max(axis=0)])"
   ]
  },
  {
   "cell_type": "code",
   "execution_count": 49,
   "metadata": {},
   "outputs": [
    {
     "data": {
      "text/plain": [
       "array([[ 0.        ,  0.00502455, -0.02653939],\n",
       "       [ 0.        ,  0.00508   ,  0.02424755]])"
      ]
     },
     "execution_count": 49,
     "metadata": {},
     "output_type": "execute_result"
    }
   ],
   "source": [
    "bbox_3d"
   ]
  },
  {
   "cell_type": "code",
   "execution_count": 52,
   "metadata": {},
   "outputs": [
    {
     "data": {
      "text/plain": [
       "array([0.        , 0.00502455, 0.02424755])"
      ]
     },
     "execution_count": 52,
     "metadata": {},
     "output_type": "execute_result"
    }
   ],
   "source": [
    "l=[e.bbox[0],e.bbox[0],e.bbox[0]]\n",
    "np.min(l,axis=0)"
   ]
  },
  {
   "cell_type": "code",
   "execution_count": 42,
   "metadata": {},
   "outputs": [
    {
     "data": {
      "text/plain": [
       "array([[[ 0.        ,  0.00502455,  0.02424755],\n",
       "        [ 0.        ,  0.00508   , -0.02653939]],\n",
       "\n",
       "       [[ 0.        ,  0.00502455,  0.02424755],\n",
       "        [ 0.        ,  0.00508   , -0.02653939]],\n",
       "\n",
       "       [[ 0.        ,  0.00502455,  0.02424755],\n",
       "        [ 0.        ,  0.00508   , -0.02653939]]])"
      ]
     },
     "execution_count": 42,
     "metadata": {},
     "output_type": "execute_result"
    }
   ],
   "source": [
    "np.concatenate(l).reshape(-1,2,3)"
   ]
  },
  {
   "cell_type": "code",
   "execution_count": 12,
   "metadata": {},
   "outputs": [],
   "source": [
    "id_=\"983A000001000000FFFEFF00000000007B010000\""
   ]
  },
  {
   "cell_type": "code",
   "execution_count": 13,
   "metadata": {},
   "outputs": [],
   "source": [
    "def get_sketch_id(all_stat,sketch_id):\n",
    "        for tm in all_stat[\"timeline\"]:\n",
    "            if tm['uuid']==sketch_id:\n",
    "                return tm['index']\n",
    "        return None"
   ]
  },
  {
   "cell_type": "code",
   "execution_count": 14,
   "metadata": {},
   "outputs": [],
   "source": [
    "sket_entity=f['entities'][29][\"sketch\"]\n",
    "p=Profile.from_dict(sket_entity)"
   ]
  },
  {
   "cell_type": "code",
   "execution_count": 22,
   "metadata": {},
   "outputs": [
    {
     "data": {
      "text/plain": [
       "array([[-0.02424755,  0.00502455,  0.        ],\n",
       "       [ 0.02653939,  0.00508   ,  0.        ]])"
      ]
     },
     "execution_count": 22,
     "metadata": {},
     "output_type": "execute_result"
    }
   ],
   "source": [
    "ones=np.zeros((2,1))\n",
    "np.concatenate([p.bbox,ones],axis=1)"
   ]
  },
  {
   "cell_type": "code",
   "execution_count": 21,
   "metadata": {},
   "outputs": [],
   "source": [
    "sample_pts=p.sample_points()"
   ]
  },
  {
   "cell_type": "code",
   "execution_count": 19,
   "metadata": {},
   "outputs": [],
   "source": [
    "normal_cad_plane=sket_entity[\"refPlane\"][\"normal\"]"
   ]
  },
  {
   "cell_type": "code",
   "execution_count": 28,
   "metadata": {},
   "outputs": [],
   "source": [
    "x_axis_3d=np.array(sket_entity[\"transform\"]['data'][0:3])\n",
    "y_axis_3d=np.array(sket_entity[\"transform\"]['data'][3:6])\n",
    "z_axis_3d=np.array(sket_entity[\"transform\"]['data'][6:9])\n",
    "origin=np.array([sket_entity[\"refPlane\"][\"origin\"][\"x\"], sket_entity[\"refPlane\"][\"origin\"][\"y\"], sket_entity[\"refPlane\"][\"origin\"][\"z\"]]).reshape(-1,1)\n",
    "mat=np.vstack([x_axis_3d, y_axis_3d,z_axis_3d])\n",
    "ones=np.ones((1,4))"
   ]
  },
  {
   "cell_type": "code",
   "execution_count": 9,
   "metadata": {},
   "outputs": [],
   "source": [
    "def transformation_matrix_axis(x_axis_3d,y_axis_3d,z_axis_3d,translation,iftranslation=False):\n",
    "    rotation_mat=np.vstack([x_axis_3d, y_axis_3d,z_axis_3d])\n",
    "    if iftranslation:\n",
    "        translation_mat=translation.reshape(-1,1)\n",
    "    else:\n",
    "        translation_mat=np.zeros_like(translation.reshape(-1,1))\n",
    "    transformation_mat=np.concatenate([rotation_mat,translation_mat],axis=1)\n",
    "    ones=np.array([0,0,0,1]).reshape(1,4)\n",
    "    translation_mat_homogeneous=np.concatenate([transformation_mat,ones])\n",
    "\n",
    "    return translation_mat_homogeneous"
   ]
  },
  {
   "cell_type": "code",
   "execution_count": 10,
   "metadata": {},
   "outputs": [
    {
     "ename": "NameError",
     "evalue": "name 'p' is not defined",
     "output_type": "error",
     "traceback": [
      "\u001b[0;31m---------------------------------------------------------------------------\u001b[0m",
      "\u001b[0;31mNameError\u001b[0m                                 Traceback (most recent call last)",
      "\u001b[0;32m/var/folders/3r/m21524rx7bxdvblrs62dk_t00000gn/T/ipykernel_86890/3959920603.py\u001b[0m in \u001b[0;36m<module>\u001b[0;34m\u001b[0m\n\u001b[0;32m----> 1\u001b[0;31m \u001b[0msampled_points\u001b[0m\u001b[0;34m=\u001b[0m\u001b[0mp\u001b[0m\u001b[0;34m.\u001b[0m\u001b[0msample_points\u001b[0m\u001b[0;34m(\u001b[0m\u001b[0;34m)\u001b[0m\u001b[0;34m\u001b[0m\u001b[0;34m\u001b[0m\u001b[0m\n\u001b[0m\u001b[1;32m      2\u001b[0m \u001b[0msampled_points\u001b[0m\u001b[0;34m=\u001b[0m\u001b[0msampled_points\u001b[0m\u001b[0;34m.\u001b[0m\u001b[0mreshape\u001b[0m\u001b[0;34m(\u001b[0m\u001b[0;34m-\u001b[0m\u001b[0;36m1\u001b[0m\u001b[0;34m,\u001b[0m\u001b[0;36m2\u001b[0m\u001b[0;34m)\u001b[0m\u001b[0;34m\u001b[0m\u001b[0;34m\u001b[0m\u001b[0m\n\u001b[1;32m      3\u001b[0m \u001b[0mzeros\u001b[0m\u001b[0;34m=\u001b[0m\u001b[0mnp\u001b[0m\u001b[0;34m.\u001b[0m\u001b[0mzeros\u001b[0m\u001b[0;34m(\u001b[0m\u001b[0;34m(\u001b[0m\u001b[0mlen\u001b[0m\u001b[0;34m(\u001b[0m\u001b[0msampled_points\u001b[0m\u001b[0;34m)\u001b[0m\u001b[0;34m,\u001b[0m\u001b[0;36m1\u001b[0m\u001b[0;34m)\u001b[0m\u001b[0;34m)\u001b[0m\u001b[0;34m\u001b[0m\u001b[0;34m\u001b[0m\u001b[0m\n\u001b[1;32m      4\u001b[0m \u001b[0mones\u001b[0m\u001b[0;34m=\u001b[0m\u001b[0mnp\u001b[0m\u001b[0;34m.\u001b[0m\u001b[0mones\u001b[0m\u001b[0;34m(\u001b[0m\u001b[0;34m(\u001b[0m\u001b[0mlen\u001b[0m\u001b[0;34m(\u001b[0m\u001b[0msampled_points\u001b[0m\u001b[0;34m)\u001b[0m\u001b[0;34m,\u001b[0m\u001b[0;36m1\u001b[0m\u001b[0;34m)\u001b[0m\u001b[0;34m)\u001b[0m\u001b[0;34m\u001b[0m\u001b[0;34m\u001b[0m\u001b[0m\n\u001b[1;32m      5\u001b[0m \u001b[0msampled_points\u001b[0m\u001b[0;34m=\u001b[0m\u001b[0mnp\u001b[0m\u001b[0;34m.\u001b[0m\u001b[0mconcatenate\u001b[0m\u001b[0;34m(\u001b[0m\u001b[0;34m[\u001b[0m\u001b[0msampled_points\u001b[0m\u001b[0;34m,\u001b[0m\u001b[0mzeros\u001b[0m\u001b[0;34m,\u001b[0m\u001b[0mones\u001b[0m\u001b[0;34m]\u001b[0m\u001b[0;34m,\u001b[0m\u001b[0maxis\u001b[0m\u001b[0;34m=\u001b[0m\u001b[0;36m1\u001b[0m\u001b[0;34m)\u001b[0m\u001b[0;34m\u001b[0m\u001b[0;34m\u001b[0m\u001b[0m\n",
      "\u001b[0;31mNameError\u001b[0m: name 'p' is not defined"
     ]
    }
   ],
   "source": [
    "sampled_points=p.sample_points()\n",
    "sampled_points=sampled_points.reshape(-1,2)\n",
    "zeros=np.zeros((len(sampled_points),1))\n",
    "ones=np.ones((len(sampled_points),1))\n",
    "sampled_points=np.concatenate([sampled_points,zeros,ones],axis=1)"
   ]
  },
  {
   "cell_type": "code",
   "execution_count": 11,
   "metadata": {},
   "outputs": [
    {
     "ename": "NameError",
     "evalue": "name 'sampled_points' is not defined",
     "output_type": "error",
     "traceback": [
      "\u001b[0;31m---------------------------------------------------------------------------\u001b[0m",
      "\u001b[0;31mNameError\u001b[0m                                 Traceback (most recent call last)",
      "\u001b[0;32m/var/folders/3r/m21524rx7bxdvblrs62dk_t00000gn/T/ipykernel_86890/1325246021.py\u001b[0m in \u001b[0;36m<module>\u001b[0;34m\u001b[0m\n\u001b[0;32m----> 1\u001b[0;31m \u001b[0msampled_points\u001b[0m\u001b[0;34m.\u001b[0m\u001b[0mshape\u001b[0m\u001b[0;34m\u001b[0m\u001b[0;34m\u001b[0m\u001b[0m\n\u001b[0m",
      "\u001b[0;31mNameError\u001b[0m: name 'sampled_points' is not defined"
     ]
    }
   ],
   "source": [
    "sampled_points.shape"
   ]
  },
  {
   "cell_type": "code",
   "execution_count": 52,
   "metadata": {},
   "outputs": [
    {
     "data": {
      "text/plain": [
       "array([0.        , 0.00502455, 0.02424755, 1.        ])"
      ]
     },
     "execution_count": 52,
     "metadata": {},
     "output_type": "execute_result"
    }
   ],
   "source": [
    "transformation_matrix_axis(x_axis_3d,y_axis_3d,z_axis_3d,origin,Tr)@sampled_points[0]"
   ]
  },
  {
   "cell_type": "code",
   "execution_count": 63,
   "metadata": {},
   "outputs": [
    {
     "data": {
      "text/plain": [
       "array([-0.02424755,  0.00502455,  0.        ,  1.        ])"
      ]
     },
     "execution_count": 63,
     "metadata": {},
     "output_type": "execute_result"
    }
   ],
   "source": [
    "sampled_points.min(axis=0)"
   ]
  },
  {
   "cell_type": "code",
   "execution_count": 8,
   "metadata": {},
   "outputs": [
    {
     "ename": "NameError",
     "evalue": "name 'transformation_matrix_axis' is not defined",
     "output_type": "error",
     "traceback": [
      "\u001b[0;31m---------------------------------------------------------------------------\u001b[0m",
      "\u001b[0;31mNameError\u001b[0m                                 Traceback (most recent call last)",
      "\u001b[0;32m/var/folders/3r/m21524rx7bxdvblrs62dk_t00000gn/T/ipykernel_86890/1916087643.py\u001b[0m in \u001b[0;36m<module>\u001b[0;34m\u001b[0m\n\u001b[0;32m----> 1\u001b[0;31m \u001b[0mtransformation_matrix_axis\u001b[0m\u001b[0;34m(\u001b[0m\u001b[0mx_axis_3d\u001b[0m\u001b[0;34m,\u001b[0m\u001b[0my_axis_3d\u001b[0m\u001b[0;34m,\u001b[0m\u001b[0mz_axis_3d\u001b[0m\u001b[0;34m,\u001b[0m\u001b[0morigin\u001b[0m\u001b[0;34m)\u001b[0m\u001b[0;34m\u001b[0m\u001b[0;34m\u001b[0m\u001b[0m\n\u001b[0m",
      "\u001b[0;31mNameError\u001b[0m: name 'transformation_matrix_axis' is not defined"
     ]
    }
   ],
   "source": [
    "transformation_matrix_axis(x_axis_3d,y_axis_3d,z_axis_3d,origin)"
   ]
  },
  {
   "cell_type": "code",
   "execution_count": 71,
   "metadata": {},
   "outputs": [],
   "source": [
    "afterTrans=np.matmul(np.broadcast_to(transformation_matrix_axis(x_axis_3d,y_axis_3d,z_axis_3d,origin,True),(192,4,4)),sampled_points.reshape(-1,4,1))"
   ]
  },
  {
   "cell_type": "code",
   "execution_count": 72,
   "metadata": {},
   "outputs": [],
   "source": [
    "afterTrans=afterTrans.reshape(-1,4)"
   ]
  },
  {
   "cell_type": "code",
   "execution_count": 90,
   "metadata": {},
   "outputs": [],
   "source": [
    "mat=np.concatenate([mat,origin],axis=1)"
   ]
  },
  {
   "cell_type": "code",
   "execution_count": 91,
   "metadata": {},
   "outputs": [
    {
     "data": {
      "text/plain": [
       "array([[ 0.        ,  0.        ,  1.        ,  0.        ],\n",
       "       [ 0.        ,  1.        ,  0.        ,  0.00508   ],\n",
       "       [-1.        ,  0.        ,  0.        , -0.02424755],\n",
       "       [ 1.        ,  1.        ,  1.        ,  1.        ]])"
      ]
     },
     "execution_count": 91,
     "metadata": {},
     "output_type": "execute_result"
    }
   ],
   "source": [
    "np.concatenate([mat,ones])"
   ]
  },
  {
   "cell_type": "code",
   "execution_count": 61,
   "metadata": {},
   "outputs": [
    {
     "data": {
      "text/plain": [
       "array([list([0, 0, 1]), list([0, 1, 0]), list([-1, 0, 0]),\n",
       "       {'x': 0, 'y': 0.00508, 'z': -0.02424755155239188}], dtype=object)"
      ]
     },
     "execution_count": 61,
     "metadata": {},
     "output_type": "execute_result"
    }
   ],
   "source": [
    "mat"
   ]
  },
  {
   "cell_type": "code",
   "execution_count": 24,
   "metadata": {},
   "outputs": [],
   "source": [
    "normal_source=np.array([0,0,1])\n",
    "normal_target=np.array([-1,0,0])"
   ]
  },
  {
   "cell_type": "code",
   "execution_count": 25,
   "metadata": {},
   "outputs": [],
   "source": [
    "costheta=np.dot(normal_source,normal_target)/(np.linalg.norm(normal_source)*np.linalg.norm(normal_target))\n"
   ]
  },
  {
   "cell_type": "code",
   "execution_count": 28,
   "metadata": {},
   "outputs": [
    {
     "data": {
      "text/plain": [
       "array([ 0, -1,  0])"
      ]
     },
     "execution_count": 28,
     "metadata": {},
     "output_type": "execute_result"
    }
   ],
   "source": [
    "np.cross(normal_source,normal_target)"
   ]
  },
  {
   "cell_type": "code",
   "execution_count": 29,
   "metadata": {},
   "outputs": [],
   "source": [
    "sintheta=np.sqrt(1-costheta*2)"
   ]
  },
  {
   "cell_type": "code",
   "execution_count": null,
   "metadata": {},
   "outputs": [],
   "source": []
  }
 ],
 "metadata": {
  "kernelspec": {
   "display_name": "dl_env",
   "language": "python",
   "name": "python3"
  },
  "language_info": {
   "codemirror_mode": {
    "name": "ipython",
    "version": 3
   },
   "file_extension": ".py",
   "mimetype": "text/x-python",
   "name": "python",
   "nbconvert_exporter": "python",
   "pygments_lexer": "ipython3",
   "version": "3.8.12"
  },
  "orig_nbformat": 4,
  "vscode": {
   "interpreter": {
    "hash": "c4e8fb3c1082bb46ec33d3c97266bb7042a653e1394115648c2c3a5c1250857d"
   }
  }
 },
 "nbformat": 4,
 "nbformat_minor": 2
}
