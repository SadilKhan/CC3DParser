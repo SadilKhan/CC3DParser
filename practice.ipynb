{
 "cells": [
  {
   "cell_type": "code",
   "execution_count": 1,
   "metadata": {},
   "outputs": [],
   "source": [
    "import json"
   ]
  },
  {
   "cell_type": "code",
   "execution_count": 3,
   "metadata": {},
   "outputs": [],
   "source": [
    "f=json.load(open(\"/Users/ryzenx/Codes/Python/cc3dparser/temp_data/User Library-3DS Cart.artec_prt.json\"))"
   ]
  },
  {
   "cell_type": "code",
   "execution_count": 12,
   "metadata": {},
   "outputs": [],
   "source": [
    "extrude_entity=f['entities'][-1]"
   ]
  },
  {
   "cell_type": "code",
   "execution_count": 15,
   "metadata": {},
   "outputs": [
    {
     "data": {
      "text/plain": [
       "['983A000001000000FFFEFF00000000007B010000']"
      ]
     },
     "execution_count": 15,
     "metadata": {},
     "output_type": "execute_result"
    }
   ],
   "source": [
    "extrude_entity['feature']['extrude']['references']"
   ]
  },
  {
   "cell_type": "code",
   "execution_count": 16,
   "metadata": {},
   "outputs": [],
   "source": [
    "id_=\"983A000001000000FFFEFF00000000007B010000\""
   ]
  },
  {
   "cell_type": "code",
   "execution_count": 17,
   "metadata": {},
   "outputs": [],
   "source": [
    "def get_sketch_id(all_stat,sketch_id):\n",
    "        for tm in all_stat[\"timeline\"]:\n",
    "            if tm['uuid']==sketch_id:\n",
    "                return tm['index']\n",
    "        return None"
   ]
  },
  {
   "cell_type": "code",
   "execution_count": 21,
   "metadata": {},
   "outputs": [
    {
     "data": {
      "text/plain": [
       "[{'uuid': '983A000022000000FFFEFF00000000007B01000006000000FFFF01000C0073674C696E6548616E646C650000FFFFFFFF0000000001800200FFFFFFFF0000000001800300FFFFFFFF0000000001800400FFFFFFFF0000000001800600FFFFFFFF0000000001800700FFFFFFFF00000000',\n",
       "  'curves': ['983A000006000000FFFEFF00000000007B010000FFFF01000C0073674C696E6548616E646C650000FFFFFFFF00000000',\n",
       "   '983A000006000000FFFEFF00000000007B010000FFFF01000C0073674C696E6548616E646C650200FFFFFFFF00000000',\n",
       "   '983A000006000000FFFEFF00000000007B010000FFFF01000C0073674C696E6548616E646C650300FFFFFFFF00000000',\n",
       "   '983A000006000000FFFEFF00000000007B010000FFFF01000C0073674C696E6548616E646C650400FFFFFFFF00000000',\n",
       "   '983A000006000000FFFEFF00000000007B010000FFFF01000C0073674C696E6548616E646C650600FFFFFFFF00000000',\n",
       "   '983A000006000000FFFEFF00000000007B010000FFFF01000C0073674C696E6548616E646C650700FFFFFFFF00000000'],\n",
       "  'isOuter': False,\n",
       "  'isClosed': True}]"
      ]
     },
     "execution_count": 21,
     "metadata": {},
     "output_type": "execute_result"
    }
   ],
   "source": [
    "f['entities'][29]['sketch']['profiles']"
   ]
  },
  {
   "cell_type": "code",
   "execution_count": null,
   "metadata": {},
   "outputs": [],
   "source": []
  }
 ],
 "metadata": {
  "kernelspec": {
   "display_name": "dl_env",
   "language": "python",
   "name": "python3"
  },
  "language_info": {
   "codemirror_mode": {
    "name": "ipython",
    "version": 3
   },
   "file_extension": ".py",
   "mimetype": "text/x-python",
   "name": "python",
   "nbconvert_exporter": "python",
   "pygments_lexer": "ipython3",
   "version": "3.8.12"
  },
  "orig_nbformat": 4,
  "vscode": {
   "interpreter": {
    "hash": "c4e8fb3c1082bb46ec33d3c97266bb7042a653e1394115648c2c3a5c1250857d"
   }
  }
 },
 "nbformat": 4,
 "nbformat_minor": 2
}
